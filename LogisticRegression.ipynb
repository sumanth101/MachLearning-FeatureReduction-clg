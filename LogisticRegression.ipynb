{
  "nbformat": 4,
  "nbformat_minor": 0,
  "metadata": {
    "colab": {
      "provenance": []
    },
    "kernelspec": {
      "name": "python3",
      "display_name": "Python 3"
    },
    "language_info": {
      "name": "python"
    }
  },
  "cells": [
    {
      "cell_type": "code",
      "source": [
        "#data manipulation and visualisation libraries\n",
        "import numpy as np # linear algebra\n",
        "import pandas as pd # data processing, CSV file I/O (e.g. pd.read_csv)\n",
        "import matplotlib.pyplot as plt\n",
        "import seaborn as sns\n",
        "\n",
        "#variable scaling libraries\n",
        "from sklearn.preprocessing import StandardScaler\n",
        "\n",
        "#variables normalisation\n",
        "from scipy.stats import boxcox\n",
        "\n",
        "#sklearn libraries\n",
        "from sklearn.model_selection import train_test_split\n",
        "from sklearn.linear_model import LogisticRegression\n",
        "\n",
        "#evaluation metrics\n",
        "from sklearn import metrics\n",
        "from sklearn.metrics import confusion_matrix\n",
        "from sklearn.metrics import accuracy_score\n",
        "from sklearn.metrics import recall_score\n",
        "from sklearn.metrics import precision_score\n",
        "from sklearn.metrics import f1_score\n",
        "from sklearn.metrics import classification_report"
      ],
      "metadata": {
        "id": "xmaDAU9P0OUy"
      },
      "execution_count": null,
      "outputs": []
    },
    {
      "cell_type": "code",
      "source": [
        "data = pd.read_csv('/content/riceClassification.csv')"
      ],
      "metadata": {
        "id": "itdaTM2b0j5q"
      },
      "execution_count": null,
      "outputs": []
    },
    {
      "cell_type": "code",
      "source": [
        "data = data.drop(columns = 'id', axis = 1)"
      ],
      "metadata": {
        "id": "FFMrB7W-AxYt"
      },
      "execution_count": null,
      "outputs": []
    },
    {
      "cell_type": "code",
      "source": [
        "#normalization of all attributes with outliers\n",
        "columns = data.columns\n",
        "columns = [c for c in columns if c not in ['Extent', 'Class']]\n",
        "\n",
        "for col in columns:\n",
        "    data[col] = boxcox(x=data[col])[0]"
      ],
      "metadata": {
        "id": "DDyKbqiAA6ol"
      },
      "execution_count": null,
      "outputs": []
    },
    {
      "cell_type": "code",
      "source": [
        "columns = data.columns\n",
        "columns = [c for c in columns if c not in ['Class']]\n",
        "y = data['Class'] \n",
        "X = data[columns]"
      ],
      "metadata": {
        "id": "_sjAW0ga-4oC"
      },
      "execution_count": null,
      "outputs": []
    },
    {
      "cell_type": "code",
      "source": [
        "#preparation of train and test data for Logistic Regression\n",
        "X_train, X_test, y_train, y_test = train_test_split(X, y, test_size=0.3, stratify=y, random_state=1) #70 % of train data, 30 % of test data\n",
        "X_train.shape, X_test.shape, y_train.shape, y_test.shape"
      ],
      "metadata": {
        "colab": {
          "base_uri": "https://localhost:8080/"
        },
        "id": "e3SSsqL7-8Ha",
        "outputId": "4224b5ae-889e-4eb4-b45a-f7a481f9388b"
      },
      "execution_count": null,
      "outputs": [
        {
          "output_type": "execute_result",
          "data": {
            "text/plain": [
              "((12729, 10), (5456, 10), (12729,), (5456,))"
            ]
          },
          "metadata": {},
          "execution_count": 91
        }
      ]
    },
    {
      "cell_type": "code",
      "source": [
        "#implementing Logistic Regression\n",
        "lr = LogisticRegression()\n",
        "lr.fit(X_train, y_train)\n",
        "y_pred_lr = lr.predict(X_test)\n",
        "\n",
        "#plotting Confusion Matrix\n",
        "cf_matrix_lr = confusion_matrix(y_test, y_pred_lr)\n",
        "print(cf_matrix_lr)\n",
        "\n",
        "ax = sns.heatmap(cf_matrix_lr/np.sum(cf_matrix_lr), annot=True, fmt='.2%', cmap='binary')\n",
        "\n",
        "ax.set_title('Logistic Regression Confusion Matrix\\n\\n');\n",
        "ax.set_xlabel('\\nPredicted Values')\n",
        "ax.set_ylabel('Actual Values ');\n",
        "\n",
        "## Ticket labels - List must be in alphabetical order\n",
        "ax.xaxis.set_ticklabels(['0','1'])\n",
        "ax.yaxis.set_ticklabels(['0','1'])\n",
        "\n",
        "## Display the visualization of the Confusion Matrix.\n",
        "plt.show()"
      ],
      "metadata": {
        "colab": {
          "base_uri": "https://localhost:8080/",
          "height": 565
        },
        "id": "DttW5p-c_CR4",
        "outputId": "71f28bec-3378-4c19-d917-f9fce38d9220"
      },
      "execution_count": null,
      "outputs": [
        {
          "output_type": "stream",
          "name": "stdout",
          "text": [
            "[[1956  504]\n",
            " [1306 1690]]\n"
          ]
        },
        {
          "output_type": "display_data",
          "data": {
            "text/plain": [
              "<Figure size 640x480 with 2 Axes>"
            ],
            "image/png": "[encoded data removed]"
          },
          "metadata": {}
        }
      ]
    },
    {
      "cell_type": "code",
      "source": [
        "#evaluation of Logistic Regression: metrics pivot chart\n",
        "print(classification_report(y_test, y_pred_lr))\n",
        "\n",
        "print('Accuracy Score : ' + str(round(accuracy_score(y_test,y_pred_lr),3)))\n",
        "print('Precision Score : ' + str(round(precision_score(y_test,y_pred_lr),3)))\n",
        "print('Recall Score : ' + str(round(recall_score(y_test,y_pred_lr),3)))\n",
        "print('F-Score : ' + str(round(f1_score(y_test,y_pred_lr),3)))"
      ],
      "metadata": {
        "colab": {
          "base_uri": "https://localhost:8080/"
        },
        "id": "8WHQMP1w_hAV",
        "outputId": "a39b9906-3426-41ef-9e47-c95fa06dafba"
      },
      "execution_count": null,
      "outputs": [
        {
          "output_type": "stream",
          "name": "stdout",
          "text": [
            "              precision    recall  f1-score   support\n",
            "\n",
            "           0       0.60      0.80      0.68      2460\n",
            "           1       0.77      0.56      0.65      2996\n",
            "\n",
            "    accuracy                           0.67      5456\n",
            "   macro avg       0.68      0.68      0.67      5456\n",
            "weighted avg       0.69      0.67      0.67      5456\n",
            "\n",
            "Accuracy Score : 0.668\n",
            "Precision Score : 0.77\n",
            "Recall Score : 0.564\n",
            "F-Score : 0.651\n"
          ]
        }
      ]
    }
  ]
}